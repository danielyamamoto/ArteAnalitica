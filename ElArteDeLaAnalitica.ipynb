{
 "cells": [
  {
   "cell_type": "markdown",
   "metadata": {},
   "source": [
    "<b>Ejercicios con Python</b>\n",
    "\n",
    "<ol>\n",
    "    <li>\n",
    "Escribir una función de Python que encuentre los números primos en los primeros N números naturales.\n",
    "        <ul>\n",
    "            <li>N es el argumento de la función.</li>\n",
    "            <li>Llamar la función desde el código principal.</li>\n",
    "        </ul>\n",
    "    </li>\n",
    "    <li>\n",
    "Escribir una función de Python que encuentre el producto cruz en vectores de 3 componentes.\n",
    "        <ul>\n",
    "            <li>La función recibe dos listas (vectores).</li>\n",
    "            <li>La función regresa un tercer vector (lista) con el resultado.</li>\n",
    "            <li>Llamar a la función desde el código principal.</li>\n",
    "        </ul>\n",
    "    </li>\n",
    "    <li>\n",
    "Re-escribir el problema 2, pero ahora los vectores son leídos desde un archivo de texto.\n",
    "    </li>\n",
    "</ol>"
   ]
  },
  {
   "cell_type": "code",
   "execution_count": null,
   "metadata": {},
   "outputs": [],
   "source": [
    "def findPrimes(n):\n",
    "    primes = []\n",
    "    # Primes?\n",
    "    return primes"
   ]
  },
  {
   "cell_type": "code",
   "execution_count": null,
   "metadata": {},
   "outputs": [],
   "source": [
    "def crossProduct(a, b):\n",
    "    product = []\n",
    "    # 3D cross product?\n",
    "    return product"
   ]
  },
  {
   "cell_type": "code",
   "execution_count": null,
   "metadata": {},
   "outputs": [],
   "source": [
    "def crossProduct():\n",
    "    # Read a, b from file: vectors.txt\n",
    "    product = []\n",
    "    return product"
   ]
  }
 ],
 "metadata": {
  "kernelspec": {
   "display_name": "Python 3",
   "language": "python",
   "name": "python3"
  },
  "language_info": {
   "codemirror_mode": {
    "name": "ipython",
    "version": 3
   },
   "file_extension": ".py",
   "mimetype": "text/x-python",
   "name": "python",
   "nbconvert_exporter": "python",
   "pygments_lexer": "ipython3",
   "version": "3.8.5"
  }
 },
 "nbformat": 4,
 "nbformat_minor": 4
}
